{
 "cells": [
  {
   "cell_type": "markdown",
   "id": "b78bf692",
   "metadata": {},
   "source": [
    "##  1)Python Program to Add Two Matrices\n"
   ]
  },
  {
   "cell_type": "code",
   "execution_count": 4,
   "id": "28e3ed3a",
   "metadata": {},
   "outputs": [],
   "source": [
    "x = [[1, 2],\n",
    "     [4, 5], \n",
    "     [3, 6]]\n",
    "\n",
    "y= [[6, 2], \n",
    "    [5, 5], \n",
    "    [4, 6]]\n",
    "\n",
    "result= [[0,0],\n",
    "         [0,0],\n",
    "         [0,0]]"
   ]
  },
  {
   "cell_type": "code",
   "execution_count": 13,
   "id": "e16f6d81",
   "metadata": {},
   "outputs": [
    {
     "name": "stdout",
     "output_type": "stream",
     "text": [
      "[[7, 4], [9, 10], [7, 12]]"
     ]
    }
   ],
   "source": [
    "#  Program to add two matrices using nested loop\n",
    "for i in range(len(x)):\n",
    "    for j in range(len(x[0])):\n",
    "        result[i][j]=x[i][j]+y[i][j]\n",
    "print(result)"
   ]
  },
  {
   "cell_type": "code",
   "execution_count": 21,
   "id": "b9cf46e6",
   "metadata": {},
   "outputs": [
    {
     "name": "stdout",
     "output_type": "stream",
     "text": [
      "[7, 4]\n",
      "[9, 10]\n",
      "[7, 12]\n"
     ]
    }
   ],
   "source": [
    "#  Matrix Addition using Nested List Comprehension\n",
    "result = [[x[i][j] + y[i][j]  for j in range(len(x[0]))] for i in range(len(x))]\n",
    "\n",
    "for r in result:\n",
    "    print(r)"
   ]
  },
  {
   "cell_type": "markdown",
   "id": "3b8b6596",
   "metadata": {},
   "source": [
    "##  2)Python Program to Transpose a Matrix"
   ]
  },
  {
   "cell_type": "code",
   "execution_count": 29,
   "id": "8757523c",
   "metadata": {},
   "outputs": [
    {
     "name": "stdout",
     "output_type": "stream",
     "text": [
      "The orignal matrix is:  [[1, 2], [4, 5], [3, 6]]\n",
      "Transpose of a matrix is:  [[1, 4, 3], [2, 5, 6]]\n"
     ]
    }
   ],
   "source": [
    "# Matrix Transpose using Nested Loop\n",
    "result2 = [[0,0,0],\n",
    "         [0,0,0],\n",
    "         ]\n",
    "for i in range(len(x)):\n",
    "    for j in range(len(x[0])):\n",
    "        result2[j][i]=x[i][j] \n",
    "print('The orignal matrix is: ',x)\n",
    "print('Transpose of a matrix is: ',result2)\n"
   ]
  },
  {
   "cell_type": "code",
   "execution_count": 31,
   "id": "2f1d1a5f",
   "metadata": {},
   "outputs": [
    {
     "name": "stdout",
     "output_type": "stream",
     "text": [
      "The orignal matrix is:  [[1, 2], [4, 5], [3, 6]]\n",
      "Transpose of a matrix is:  [[1, 4, 3], [2, 5, [[2, 5], [2, 5], [2, 5]]]]\n"
     ]
    }
   ],
   "source": [
    "# Matrix Transpose using Nested List Comprehension\n",
    "result2[j][i]= [[x[i][j] for i in range(len(x[0]))] for i in range(len(x))]\n",
    "print('The orignal matrix is: ',x)\n",
    "print('Transpose of a matrix is: ',result2)"
   ]
  },
  {
   "cell_type": "code",
   "execution_count": null,
   "id": "147fb1d4",
   "metadata": {},
   "outputs": [],
   "source": []
  }
 ],
 "metadata": {
  "kernelspec": {
   "display_name": "Python 3",
   "language": "python",
   "name": "python3"
  },
  "language_info": {
   "codemirror_mode": {
    "name": "ipython",
    "version": 3
   },
   "file_extension": ".py",
   "mimetype": "text/x-python",
   "name": "python",
   "nbconvert_exporter": "python",
   "pygments_lexer": "ipython3",
   "version": "3.8.8"
  }
 },
 "nbformat": 4,
 "nbformat_minor": 5
}
